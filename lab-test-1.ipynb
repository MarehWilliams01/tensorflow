{
 "cells": [
  {
   "cell_type": "code",
   "execution_count": 1,
   "metadata": {},
   "outputs": [
    {
     "name": "stdout",
     "output_type": "stream",
     "text": [
      "1/1 [==============================] - 7s 7s/step\n",
      "[[3.2371151]]\n",
      "2.9.1\n"
     ]
    }
   ],
   "source": [
    "import tensorflow as tf\n",
    "import numpy as np\n",
    "from tensorflow import keras\n",
    "\n",
    "#Build a simple Sequential model\n",
    "model = tf.keras.Sequential([keras.layers.Dense(units = 1, input_shape = [1])])\n",
    "\n",
    "#defining the loss and optimizer functions \n",
    "model.compile(loss = 'mean_sqaured_error', optimizer = 'sgd')\n",
    "\n",
    "#defining the data\n",
    "np.array([-1.0, 0.0, 1.0, 2.0, 3.0, 4.0], dtype=float)\n",
    "np.array([-3.0, -1.0, 1.0, 3.0, 5.0, 7.0], dtype=float)\n",
    "\n",
    "#printing prediction\n",
    "print(model.predict([10.0]))\n",
    "\n",
    "print(tf.__version__)"
   ]
  }
 ],
 "metadata": {
  "kernelspec": {
   "display_name": "Python 3.9.15 ('tf')",
   "language": "python",
   "name": "python3"
  },
  "language_info": {
   "codemirror_mode": {
    "name": "ipython",
    "version": 3
   },
   "file_extension": ".py",
   "mimetype": "text/x-python",
   "name": "python",
   "nbconvert_exporter": "python",
   "pygments_lexer": "ipython3",
   "version": "3.9.15"
  },
  "orig_nbformat": 4,
  "vscode": {
   "interpreter": {
    "hash": "a3ffb6584cf811a6ef18bb1d2b3fbcd4560588fc140b40b82c68489a9571ab7f"
   }
  }
 },
 "nbformat": 4,
 "nbformat_minor": 2
}
