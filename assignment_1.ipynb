{
 "cells": [
  {
   "cell_type": "code",
   "execution_count": 1,
   "id": "807f8a8f",
   "metadata": {},
   "outputs": [
    {
     "name": "stdout",
     "output_type": "stream",
     "text": [
      "Epoch 1/1000\n"
     ]
    }
   ],
   "source": [
    "import tensorflow as tf\n",
    "import numpy as np\n",
    "from tensorflow import keras\n",
    "\n",
    "#taking the values\n",
    "xs =np.array([1.0, 2.0, 3.0, 4.0, 5.0, 6.0], dtype=float)\n",
    "ys =np.array([100.0, 150.0, 200.0, 250.0, 300.0, 350.0], dtype=float)\n",
    "\n",
    "#defining the Sequential model \n",
    "model = tf.keras.Sequential([keras.layers.Dense(units=1, input_shape=[1])])\n",
    "\n",
    "#defining the compiler\n",
    "model.compile(loss='mean_squared_error', optimizer='sgd')\n",
    "\n",
    "#training the model\n",
    "model.fit(xs, ys, epochs=1000)\n",
    "\n",
    "#printing the prediction\n",
    "print(model.predict([7.0]))"
   ]
  }
 ],
 "metadata": {
  "kernelspec": {
   "display_name": "Python 3.9.15 ('tf')",
   "language": "python",
   "name": "python3"
  },
  "language_info": {
   "codemirror_mode": {
    "name": "ipython",
    "version": 3
   },
   "file_extension": ".py",
   "mimetype": "text/x-python",
   "name": "python",
   "nbconvert_exporter": "python",
   "pygments_lexer": "ipython3",
   "version": "3.9.15"
  },
  "vscode": {
   "interpreter": {
    "hash": "a3ffb6584cf811a6ef18bb1d2b3fbcd4560588fc140b40b82c68489a9571ab7f"
   }
  }
 },
 "nbformat": 4,
 "nbformat_minor": 5
}
